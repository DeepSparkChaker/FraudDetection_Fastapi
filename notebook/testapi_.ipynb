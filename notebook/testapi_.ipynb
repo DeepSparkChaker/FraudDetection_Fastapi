{
 "cells": [
  {
   "cell_type": "code",
   "execution_count": 86,
   "metadata": {},
   "outputs": [
    {
     "data": {
      "text/plain": [
       "<Response [200]>"
      ]
     },
     "execution_count": 86,
     "metadata": {},
     "output_type": "execute_result"
    }
   ],
   "source": [
    "import requests as r\n",
    "# add review\n",
    "review ={\n",
    "\"step\":50,\n",
    "\"type\":\"PAYMENT\",\n",
    "\"amount\":9839.64,\n",
    "\"nameOrig\":\"C1231006815\",\n",
    "\"oldbalanceOrig\":170136.0,\n",
    "\"newbalanceOrig\":160296.36,\n",
    "\"nameDest\":\"M1979787155\",\n",
    "\"oldbalanceDest\":0.0,\n",
    "\"newbalanceDest\":0.0\n",
    "}\n",
    "\n",
    "test2={\"step\":234,\n",
    "       \"type\":\"CASH_OUT\",\n",
    "       \"amount\":305822.52,\n",
    "       \"nameOrig\":\"C1376293938\",\n",
    "       \"oldbalanceOrig\":0.0,\n",
    "       \"newbalanceOrig\":0.0,\n",
    "       \"nameDest\":\"C182325611\",\n",
    "       \"oldbalanceDest\":1569390.8999999999,\n",
    "       \"newbalanceDest\":1875213.4199999999}\n",
    "\n",
    "review3={\n",
    "  \"step\": [\n",
    "    0,234\n",
    "  ],\n",
    "  \"type\": [\n",
    "    \"string\",\"CASH_OUT\"\n",
    "  ],\n",
    "  \"amount\": [\n",
    "    0,305822.52\n",
    "  ],\n",
    "  \"nameOrig\": [\n",
    "    \"string\",\"C1376293938\"\n",
    "  ],\n",
    "  \"oldbalanceOrig\": [\n",
    "    0,0.0\n",
    "  ],\n",
    "  \"newbalanceOrig\": [\n",
    "    0,0.0\n",
    "  ],\n",
    "  \"nameDest\": [\n",
    "    \"string\",\"C182325611\"\n",
    "  ],\n",
    "  \"oldbalanceDest\": [\n",
    "    0,1569390.8999999999\n",
    "  ],\n",
    "  \"newbalanceDest\": [\n",
    "    0,1875213.4199999999\n",
    "  ]\n",
    "}\n",
    "keys = {\"request\": review}\n",
    "keys2 = {\"item\": test2}\n",
    "#prediction = r.get(\"http://127.0.0.1:4000/'modamed'\")\n",
    "prediction = r.post(\"http://127.0.0.1:4000/predict-fraud\",  json=review3)\n",
    "prediction"
   ]
  },
  {
   "cell_type": "code",
   "execution_count": 87,
   "metadata": {},
   "outputs": [
    {
     "data": {
      "text/plain": [
       "['Not Fraud', 'Not Fraud']"
      ]
     },
     "execution_count": 87,
     "metadata": {},
     "output_type": "execute_result"
    }
   ],
   "source": [
    "import pandas as pd\n",
    "results=prediction.json()\n",
    "results "
   ]
  },
  {
   "cell_type": "code",
   "execution_count": 75,
   "metadata": {},
   "outputs": [
    {
     "data": {
      "text/plain": [
       "dict_values([50, 'PAYMENT', 9839.64, 'C1231006815', 170136.0, 160296.36, 'M1979787155', 0.0, 0.0])"
      ]
     },
     "execution_count": 75,
     "metadata": {},
     "output_type": "execute_result"
    }
   ],
   "source": [
    "results.values()"
   ]
  }
 ],
 "metadata": {
  "kernelspec": {
   "display_name": "Python 3",
   "language": "python",
   "name": "python3"
  },
  "language_info": {
   "codemirror_mode": {
    "name": "ipython",
    "version": 3
   },
   "file_extension": ".py",
   "mimetype": "text/x-python",
   "name": "python",
   "nbconvert_exporter": "python",
   "pygments_lexer": "ipython3",
   "version": "3.8.8"
  }
 },
 "nbformat": 4,
 "nbformat_minor": 4
}
